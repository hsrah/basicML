{
 "cells": [
  {
   "cell_type": "markdown",
   "metadata": {},
   "source": [
    "## Phishing Site Detection\n",
    "\n",
    "In the Pre processing of the Data the attributes are coded into following format for application of KNN Classifier \n",
    "\n",
    " \tSFH's type is nominal, range is ('1', '-1', '0')\n",
    " \tpopUpWidnow's type is nominal, range is ('-1', '0', '1')\n",
    " \tSSLfinal_State's type is nominal, range is ('1', '-1', '0')\n",
    " \tRequest_URL's type is nominal, range is ('-1', '0', '1')\n",
    " \tURL_of_Anchor's type is nominal, range is ('-1', '0', '1')\n",
    " \tweb_traffic's type is nominal, range is ('1', '0', '-1')\n",
    " \tURL_Length's type is nominal, range is ('1', '-1', '0')\n",
    " \tage_of_domain's type is nominal, range is ('1', '-1')\n",
    " \thaving_IP_Address's type is nominal, range is ('0', '1')\n",
    " \tResult's type is nominal, range is ('0', '1', '-1'))\n",
    "    \n",
    "    The  data coding is as follows:\n",
    "    \"1\"  - Legitimate Website\n",
    "    \"0\"  - Suspisious\n",
    "    \"-1\" - Malicious Website"
   ]
  },
  {
   "cell_type": "markdown",
   "metadata": {},
   "source": [
    "### Importing the packages"
   ]
  },
  {
   "cell_type": "markdown",
   "metadata": {},
   "source": [
    "ARFF stands for Attribute-Relation File Format. To read this file we will import package loadarff.\n"
   ]
  },
  {
   "cell_type": "code",
   "execution_count": 1,
   "metadata": {},
   "outputs": [],
   "source": [
    "import numpy as np\n",
    "from sklearn.neighbors import KNeighborsClassifier\n",
    "import pandas as pd\n",
    "from scipy.io.arff import loadarff\n",
    "from sklearn.model_selection import cross_val_score\n",
    "from sklearn.model_selection import train_test_split\n",
    "from sklearn.metrics import classification_report,confusion_matrix,accuracy_score"
   ]
  },
  {
   "cell_type": "markdown",
   "metadata": {},
   "source": [
    "### Loading the data"
   ]
  },
  {
   "cell_type": "code",
   "execution_count": 2,
   "metadata": {},
   "outputs": [],
   "source": [
    "phishing_data_raw = loadarff(\"attachment_PhishingData_lyst6650.arff\")"
   ]
  },
  {
   "cell_type": "code",
   "execution_count": 3,
   "metadata": {},
   "outputs": [
    {
     "data": {
      "text/plain": [
       "(array([(b'-1', b'1', b'1', b'1', b'-1', b'-1', b'-1', b'-1', b'-1', b'1', b'1', b'-1', b'1', b'-1', b'1', b'-1', b'-1', b'-1', b'0', b'1', b'1', b'1', b'1', b'-1', b'-1', b'-1', b'-1', b'1', b'1', b'-1', b'-1'),\n",
       "        (b'1', b'1', b'1', b'1', b'1', b'-1', b'0', b'1', b'-1', b'1', b'1', b'-1', b'1', b'0', b'-1', b'-1', b'1', b'1', b'0', b'1', b'1', b'1', b'1', b'-1', b'-1', b'0', b'-1', b'1', b'1', b'1', b'-1'),\n",
       "        (b'1', b'0', b'1', b'1', b'1', b'-1', b'-1', b'-1', b'-1', b'1', b'1', b'-1', b'1', b'0', b'-1', b'-1', b'-1', b'-1', b'0', b'1', b'1', b'1', b'1', b'1', b'-1', b'1', b'-1', b'1', b'0', b'-1', b'-1'),\n",
       "        ...,\n",
       "        (b'1', b'-1', b'1', b'1', b'1', b'-1', b'1', b'-1', b'-1', b'1', b'1', b'1', b'1', b'0', b'-1', b'-1', b'1', b'1', b'0', b'1', b'1', b'1', b'1', b'1', b'1', b'1', b'-1', b'1', b'0', b'1', b'-1'),\n",
       "        (b'-1', b'-1', b'1', b'1', b'1', b'-1', b'-1', b'-1', b'1', b'-1', b'1', b'1', b'-1', b'-1', b'1', b'-1', b'1', b'1', b'0', b'-1', b'1', b'-1', b'1', b'1', b'1', b'1', b'-1', b'1', b'1', b'1', b'-1'),\n",
       "        (b'-1', b'-1', b'1', b'1', b'1', b'-1', b'-1', b'-1', b'1', b'1', b'1', b'1', b'-1', b'-1', b'0', b'-1', b'1', b'1', b'0', b'1', b'1', b'1', b'1', b'-1', b'1', b'-1', b'-1', b'-1', b'1', b'-1', b'-1')],\n",
       "       dtype=[('having_IP_Address', 'S2'), ('URL_Length', 'S2'), ('Shortining_Service', 'S2'), ('having_At_Symbol', 'S2'), ('double_slash_redirecting', 'S2'), ('Prefix_Suffix', 'S2'), ('having_Sub_Domain', 'S2'), ('SSLfinal_State', 'S2'), ('Domain_registeration_length', 'S2'), ('Favicon', 'S2'), ('port', 'S2'), ('HTTPS_token', 'S2'), ('Request_URL', 'S2'), ('URL_of_Anchor', 'S2'), ('Links_in_tags', 'S2'), ('SFH', 'S2'), ('Submitting_to_email', 'S2'), ('Abnormal_URL', 'S2'), ('Redirect', 'S1'), ('on_mouseover', 'S2'), ('RightClick', 'S2'), ('popUpWidnow', 'S2'), ('Iframe', 'S2'), ('age_of_domain', 'S2'), ('DNSRecord', 'S2'), ('web_traffic', 'S2'), ('Page_Rank', 'S2'), ('Google_Index', 'S2'), ('Links_pointing_to_page', 'S2'), ('Statistical_report', 'S2'), ('Result', 'S2')]),\n",
       " Dataset: phishing\n",
       " \thaving_IP_Address's type is nominal, range is ('-1', '1')\n",
       " \tURL_Length's type is nominal, range is ('1', '0', '-1')\n",
       " \tShortining_Service's type is nominal, range is ('1', '-1')\n",
       " \thaving_At_Symbol's type is nominal, range is ('1', '-1')\n",
       " \tdouble_slash_redirecting's type is nominal, range is ('-1', '1')\n",
       " \tPrefix_Suffix's type is nominal, range is ('-1', '1')\n",
       " \thaving_Sub_Domain's type is nominal, range is ('-1', '0', '1')\n",
       " \tSSLfinal_State's type is nominal, range is ('-1', '1', '0')\n",
       " \tDomain_registeration_length's type is nominal, range is ('-1', '1')\n",
       " \tFavicon's type is nominal, range is ('1', '-1')\n",
       " \tport's type is nominal, range is ('1', '-1')\n",
       " \tHTTPS_token's type is nominal, range is ('-1', '1')\n",
       " \tRequest_URL's type is nominal, range is ('1', '-1')\n",
       " \tURL_of_Anchor's type is nominal, range is ('-1', '0', '1')\n",
       " \tLinks_in_tags's type is nominal, range is ('1', '-1', '0')\n",
       " \tSFH's type is nominal, range is ('-1', '1', '0')\n",
       " \tSubmitting_to_email's type is nominal, range is ('-1', '1')\n",
       " \tAbnormal_URL's type is nominal, range is ('-1', '1')\n",
       " \tRedirect's type is nominal, range is ('0', '1')\n",
       " \ton_mouseover's type is nominal, range is ('1', '-1')\n",
       " \tRightClick's type is nominal, range is ('1', '-1')\n",
       " \tpopUpWidnow's type is nominal, range is ('1', '-1')\n",
       " \tIframe's type is nominal, range is ('1', '-1')\n",
       " \tage_of_domain's type is nominal, range is ('-1', '1')\n",
       " \tDNSRecord's type is nominal, range is ('-1', '1')\n",
       " \tweb_traffic's type is nominal, range is ('-1', '0', '1')\n",
       " \tPage_Rank's type is nominal, range is ('-1', '1')\n",
       " \tGoogle_Index's type is nominal, range is ('1', '-1')\n",
       " \tLinks_pointing_to_page's type is nominal, range is ('1', '0', '-1')\n",
       " \tStatistical_report's type is nominal, range is ('-1', '1')\n",
       " \tResult's type is nominal, range is ('-1', '1'))"
      ]
     },
     "execution_count": 3,
     "metadata": {},
     "output_type": "execute_result"
    }
   ],
   "source": [
    "phishing_data_raw"
   ]
  },
  {
   "cell_type": "code",
   "execution_count": 4,
   "metadata": {},
   "outputs": [
    {
     "data": {
      "text/plain": [
       "2"
      ]
     },
     "execution_count": 4,
     "metadata": {},
     "output_type": "execute_result"
    }
   ],
   "source": [
    "len(phishing_data_raw)"
   ]
  },
  {
   "cell_type": "code",
   "execution_count": 5,
   "metadata": {},
   "outputs": [
    {
     "data": {
      "text/plain": [
       "array([(b'-1', b'1', b'1', b'1', b'-1', b'-1', b'-1', b'-1', b'-1', b'1', b'1', b'-1', b'1', b'-1', b'1', b'-1', b'-1', b'-1', b'0', b'1', b'1', b'1', b'1', b'-1', b'-1', b'-1', b'-1', b'1', b'1', b'-1', b'-1'),\n",
       "       (b'1', b'1', b'1', b'1', b'1', b'-1', b'0', b'1', b'-1', b'1', b'1', b'-1', b'1', b'0', b'-1', b'-1', b'1', b'1', b'0', b'1', b'1', b'1', b'1', b'-1', b'-1', b'0', b'-1', b'1', b'1', b'1', b'-1'),\n",
       "       (b'1', b'0', b'1', b'1', b'1', b'-1', b'-1', b'-1', b'-1', b'1', b'1', b'-1', b'1', b'0', b'-1', b'-1', b'-1', b'-1', b'0', b'1', b'1', b'1', b'1', b'1', b'-1', b'1', b'-1', b'1', b'0', b'-1', b'-1'),\n",
       "       ...,\n",
       "       (b'1', b'-1', b'1', b'1', b'1', b'-1', b'1', b'-1', b'-1', b'1', b'1', b'1', b'1', b'0', b'-1', b'-1', b'1', b'1', b'0', b'1', b'1', b'1', b'1', b'1', b'1', b'1', b'-1', b'1', b'0', b'1', b'-1'),\n",
       "       (b'-1', b'-1', b'1', b'1', b'1', b'-1', b'-1', b'-1', b'1', b'-1', b'1', b'1', b'-1', b'-1', b'1', b'-1', b'1', b'1', b'0', b'-1', b'1', b'-1', b'1', b'1', b'1', b'1', b'-1', b'1', b'1', b'1', b'-1'),\n",
       "       (b'-1', b'-1', b'1', b'1', b'1', b'-1', b'-1', b'-1', b'1', b'1', b'1', b'1', b'-1', b'-1', b'0', b'-1', b'1', b'1', b'0', b'1', b'1', b'1', b'1', b'-1', b'1', b'-1', b'-1', b'-1', b'1', b'-1', b'-1')],\n",
       "      dtype=[('having_IP_Address', 'S2'), ('URL_Length', 'S2'), ('Shortining_Service', 'S2'), ('having_At_Symbol', 'S2'), ('double_slash_redirecting', 'S2'), ('Prefix_Suffix', 'S2'), ('having_Sub_Domain', 'S2'), ('SSLfinal_State', 'S2'), ('Domain_registeration_length', 'S2'), ('Favicon', 'S2'), ('port', 'S2'), ('HTTPS_token', 'S2'), ('Request_URL', 'S2'), ('URL_of_Anchor', 'S2'), ('Links_in_tags', 'S2'), ('SFH', 'S2'), ('Submitting_to_email', 'S2'), ('Abnormal_URL', 'S2'), ('Redirect', 'S1'), ('on_mouseover', 'S2'), ('RightClick', 'S2'), ('popUpWidnow', 'S2'), ('Iframe', 'S2'), ('age_of_domain', 'S2'), ('DNSRecord', 'S2'), ('web_traffic', 'S2'), ('Page_Rank', 'S2'), ('Google_Index', 'S2'), ('Links_pointing_to_page', 'S2'), ('Statistical_report', 'S2'), ('Result', 'S2')])"
      ]
     },
     "execution_count": 5,
     "metadata": {},
     "output_type": "execute_result"
    }
   ],
   "source": [
    "# Selection of the Data and converting data into numpy format for flexibility in cleaning\n",
    "phising_data_array = np.array(phishing_data_raw[0])\n",
    "phising_data_array"
   ]
  },
  {
   "cell_type": "code",
   "execution_count": 6,
   "metadata": {},
   "outputs": [
    {
     "data": {
      "text/plain": [
       "(11055,)"
      ]
     },
     "execution_count": 6,
     "metadata": {},
     "output_type": "execute_result"
    }
   ],
   "source": [
    "phising_data_array.shape"
   ]
  },
  {
   "cell_type": "code",
   "execution_count": 7,
   "metadata": {},
   "outputs": [
    {
     "data": {
      "text/html": [
       "<div>\n",
       "<style scoped>\n",
       "    .dataframe tbody tr th:only-of-type {\n",
       "        vertical-align: middle;\n",
       "    }\n",
       "\n",
       "    .dataframe tbody tr th {\n",
       "        vertical-align: top;\n",
       "    }\n",
       "\n",
       "    .dataframe thead th {\n",
       "        text-align: right;\n",
       "    }\n",
       "</style>\n",
       "<table border=\"1\" class=\"dataframe\">\n",
       "  <thead>\n",
       "    <tr style=\"text-align: right;\">\n",
       "      <th></th>\n",
       "      <th>having_IP_Address</th>\n",
       "      <th>URL_Length</th>\n",
       "      <th>Shortining_Service</th>\n",
       "      <th>having_At_Symbol</th>\n",
       "      <th>double_slash_redirecting</th>\n",
       "      <th>Prefix_Suffix</th>\n",
       "      <th>having_Sub_Domain</th>\n",
       "      <th>SSLfinal_State</th>\n",
       "      <th>Domain_registeration_length</th>\n",
       "      <th>Favicon</th>\n",
       "      <th>...</th>\n",
       "      <th>popUpWidnow</th>\n",
       "      <th>Iframe</th>\n",
       "      <th>age_of_domain</th>\n",
       "      <th>DNSRecord</th>\n",
       "      <th>web_traffic</th>\n",
       "      <th>Page_Rank</th>\n",
       "      <th>Google_Index</th>\n",
       "      <th>Links_pointing_to_page</th>\n",
       "      <th>Statistical_report</th>\n",
       "      <th>Result</th>\n",
       "    </tr>\n",
       "  </thead>\n",
       "  <tbody>\n",
       "    <tr>\n",
       "      <th>0</th>\n",
       "      <td>-1</td>\n",
       "      <td>1</td>\n",
       "      <td>1</td>\n",
       "      <td>1</td>\n",
       "      <td>-1</td>\n",
       "      <td>-1</td>\n",
       "      <td>-1</td>\n",
       "      <td>-1</td>\n",
       "      <td>-1</td>\n",
       "      <td>1</td>\n",
       "      <td>...</td>\n",
       "      <td>1</td>\n",
       "      <td>1</td>\n",
       "      <td>-1</td>\n",
       "      <td>-1</td>\n",
       "      <td>-1</td>\n",
       "      <td>-1</td>\n",
       "      <td>1</td>\n",
       "      <td>1</td>\n",
       "      <td>-1</td>\n",
       "      <td>-1</td>\n",
       "    </tr>\n",
       "    <tr>\n",
       "      <th>1</th>\n",
       "      <td>1</td>\n",
       "      <td>1</td>\n",
       "      <td>1</td>\n",
       "      <td>1</td>\n",
       "      <td>1</td>\n",
       "      <td>-1</td>\n",
       "      <td>0</td>\n",
       "      <td>1</td>\n",
       "      <td>-1</td>\n",
       "      <td>1</td>\n",
       "      <td>...</td>\n",
       "      <td>1</td>\n",
       "      <td>1</td>\n",
       "      <td>-1</td>\n",
       "      <td>-1</td>\n",
       "      <td>0</td>\n",
       "      <td>-1</td>\n",
       "      <td>1</td>\n",
       "      <td>1</td>\n",
       "      <td>1</td>\n",
       "      <td>-1</td>\n",
       "    </tr>\n",
       "    <tr>\n",
       "      <th>2</th>\n",
       "      <td>1</td>\n",
       "      <td>0</td>\n",
       "      <td>1</td>\n",
       "      <td>1</td>\n",
       "      <td>1</td>\n",
       "      <td>-1</td>\n",
       "      <td>-1</td>\n",
       "      <td>-1</td>\n",
       "      <td>-1</td>\n",
       "      <td>1</td>\n",
       "      <td>...</td>\n",
       "      <td>1</td>\n",
       "      <td>1</td>\n",
       "      <td>1</td>\n",
       "      <td>-1</td>\n",
       "      <td>1</td>\n",
       "      <td>-1</td>\n",
       "      <td>1</td>\n",
       "      <td>0</td>\n",
       "      <td>-1</td>\n",
       "      <td>-1</td>\n",
       "    </tr>\n",
       "    <tr>\n",
       "      <th>3</th>\n",
       "      <td>1</td>\n",
       "      <td>0</td>\n",
       "      <td>1</td>\n",
       "      <td>1</td>\n",
       "      <td>1</td>\n",
       "      <td>-1</td>\n",
       "      <td>-1</td>\n",
       "      <td>-1</td>\n",
       "      <td>1</td>\n",
       "      <td>1</td>\n",
       "      <td>...</td>\n",
       "      <td>1</td>\n",
       "      <td>1</td>\n",
       "      <td>-1</td>\n",
       "      <td>-1</td>\n",
       "      <td>1</td>\n",
       "      <td>-1</td>\n",
       "      <td>1</td>\n",
       "      <td>-1</td>\n",
       "      <td>1</td>\n",
       "      <td>-1</td>\n",
       "    </tr>\n",
       "    <tr>\n",
       "      <th>4</th>\n",
       "      <td>1</td>\n",
       "      <td>0</td>\n",
       "      <td>-1</td>\n",
       "      <td>1</td>\n",
       "      <td>1</td>\n",
       "      <td>-1</td>\n",
       "      <td>1</td>\n",
       "      <td>1</td>\n",
       "      <td>-1</td>\n",
       "      <td>1</td>\n",
       "      <td>...</td>\n",
       "      <td>-1</td>\n",
       "      <td>1</td>\n",
       "      <td>-1</td>\n",
       "      <td>-1</td>\n",
       "      <td>0</td>\n",
       "      <td>-1</td>\n",
       "      <td>1</td>\n",
       "      <td>1</td>\n",
       "      <td>1</td>\n",
       "      <td>1</td>\n",
       "    </tr>\n",
       "  </tbody>\n",
       "</table>\n",
       "<p>5 rows × 31 columns</p>\n",
       "</div>"
      ],
      "text/plain": [
       "   having_IP_Address  URL_Length  Shortining_Service  having_At_Symbol  \\\n",
       "0                 -1           1                   1                 1   \n",
       "1                  1           1                   1                 1   \n",
       "2                  1           0                   1                 1   \n",
       "3                  1           0                   1                 1   \n",
       "4                  1           0                  -1                 1   \n",
       "\n",
       "   double_slash_redirecting  Prefix_Suffix  having_Sub_Domain  SSLfinal_State  \\\n",
       "0                        -1             -1                 -1              -1   \n",
       "1                         1             -1                  0               1   \n",
       "2                         1             -1                 -1              -1   \n",
       "3                         1             -1                 -1              -1   \n",
       "4                         1             -1                  1               1   \n",
       "\n",
       "   Domain_registeration_length  Favicon   ...    popUpWidnow  Iframe  \\\n",
       "0                           -1        1   ...              1       1   \n",
       "1                           -1        1   ...              1       1   \n",
       "2                           -1        1   ...              1       1   \n",
       "3                            1        1   ...              1       1   \n",
       "4                           -1        1   ...             -1       1   \n",
       "\n",
       "   age_of_domain  DNSRecord  web_traffic  Page_Rank  Google_Index  \\\n",
       "0             -1         -1           -1         -1             1   \n",
       "1             -1         -1            0         -1             1   \n",
       "2              1         -1            1         -1             1   \n",
       "3             -1         -1            1         -1             1   \n",
       "4             -1         -1            0         -1             1   \n",
       "\n",
       "   Links_pointing_to_page  Statistical_report  Result  \n",
       "0                       1                  -1      -1  \n",
       "1                       1                   1      -1  \n",
       "2                       0                  -1      -1  \n",
       "3                      -1                   1      -1  \n",
       "4                       1                   1       1  \n",
       "\n",
       "[5 rows x 31 columns]"
      ]
     },
     "execution_count": 7,
     "metadata": {},
     "output_type": "execute_result"
    }
   ],
   "source": [
    "# Converting the numpy array into Pandas data frame  and casting the columns to numeric type\n",
    "phising_data_frame = pd.DataFrame(phising_data_array).apply(pd.to_numeric)\n",
    "phising_data_frame.head()"
   ]
  },
  {
   "cell_type": "code",
   "execution_count": 8,
   "metadata": {},
   "outputs": [
    {
     "data": {
      "text/html": [
       "<div>\n",
       "<style scoped>\n",
       "    .dataframe tbody tr th:only-of-type {\n",
       "        vertical-align: middle;\n",
       "    }\n",
       "\n",
       "    .dataframe tbody tr th {\n",
       "        vertical-align: top;\n",
       "    }\n",
       "\n",
       "    .dataframe thead th {\n",
       "        text-align: right;\n",
       "    }\n",
       "</style>\n",
       "<table border=\"1\" class=\"dataframe\">\n",
       "  <thead>\n",
       "    <tr style=\"text-align: right;\">\n",
       "      <th></th>\n",
       "      <th>count</th>\n",
       "      <th>mean</th>\n",
       "      <th>std</th>\n",
       "      <th>min</th>\n",
       "      <th>25%</th>\n",
       "      <th>50%</th>\n",
       "      <th>75%</th>\n",
       "      <th>max</th>\n",
       "    </tr>\n",
       "  </thead>\n",
       "  <tbody>\n",
       "    <tr>\n",
       "      <th>having_IP_Address</th>\n",
       "      <td>11055.0</td>\n",
       "      <td>0.313795</td>\n",
       "      <td>0.949534</td>\n",
       "      <td>-1.0</td>\n",
       "      <td>-1.0</td>\n",
       "      <td>1.0</td>\n",
       "      <td>1.0</td>\n",
       "      <td>1.0</td>\n",
       "    </tr>\n",
       "    <tr>\n",
       "      <th>URL_Length</th>\n",
       "      <td>11055.0</td>\n",
       "      <td>-0.633198</td>\n",
       "      <td>0.766095</td>\n",
       "      <td>-1.0</td>\n",
       "      <td>-1.0</td>\n",
       "      <td>-1.0</td>\n",
       "      <td>-1.0</td>\n",
       "      <td>1.0</td>\n",
       "    </tr>\n",
       "    <tr>\n",
       "      <th>Shortining_Service</th>\n",
       "      <td>11055.0</td>\n",
       "      <td>0.738761</td>\n",
       "      <td>0.673998</td>\n",
       "      <td>-1.0</td>\n",
       "      <td>1.0</td>\n",
       "      <td>1.0</td>\n",
       "      <td>1.0</td>\n",
       "      <td>1.0</td>\n",
       "    </tr>\n",
       "    <tr>\n",
       "      <th>having_At_Symbol</th>\n",
       "      <td>11055.0</td>\n",
       "      <td>0.700588</td>\n",
       "      <td>0.713598</td>\n",
       "      <td>-1.0</td>\n",
       "      <td>1.0</td>\n",
       "      <td>1.0</td>\n",
       "      <td>1.0</td>\n",
       "      <td>1.0</td>\n",
       "    </tr>\n",
       "    <tr>\n",
       "      <th>double_slash_redirecting</th>\n",
       "      <td>11055.0</td>\n",
       "      <td>0.741474</td>\n",
       "      <td>0.671011</td>\n",
       "      <td>-1.0</td>\n",
       "      <td>1.0</td>\n",
       "      <td>1.0</td>\n",
       "      <td>1.0</td>\n",
       "      <td>1.0</td>\n",
       "    </tr>\n",
       "    <tr>\n",
       "      <th>Prefix_Suffix</th>\n",
       "      <td>11055.0</td>\n",
       "      <td>-0.734962</td>\n",
       "      <td>0.678139</td>\n",
       "      <td>-1.0</td>\n",
       "      <td>-1.0</td>\n",
       "      <td>-1.0</td>\n",
       "      <td>-1.0</td>\n",
       "      <td>1.0</td>\n",
       "    </tr>\n",
       "    <tr>\n",
       "      <th>having_Sub_Domain</th>\n",
       "      <td>11055.0</td>\n",
       "      <td>0.063953</td>\n",
       "      <td>0.817518</td>\n",
       "      <td>-1.0</td>\n",
       "      <td>-1.0</td>\n",
       "      <td>0.0</td>\n",
       "      <td>1.0</td>\n",
       "      <td>1.0</td>\n",
       "    </tr>\n",
       "    <tr>\n",
       "      <th>SSLfinal_State</th>\n",
       "      <td>11055.0</td>\n",
       "      <td>0.250927</td>\n",
       "      <td>0.911892</td>\n",
       "      <td>-1.0</td>\n",
       "      <td>-1.0</td>\n",
       "      <td>1.0</td>\n",
       "      <td>1.0</td>\n",
       "      <td>1.0</td>\n",
       "    </tr>\n",
       "    <tr>\n",
       "      <th>Domain_registeration_length</th>\n",
       "      <td>11055.0</td>\n",
       "      <td>-0.336771</td>\n",
       "      <td>0.941629</td>\n",
       "      <td>-1.0</td>\n",
       "      <td>-1.0</td>\n",
       "      <td>-1.0</td>\n",
       "      <td>1.0</td>\n",
       "      <td>1.0</td>\n",
       "    </tr>\n",
       "    <tr>\n",
       "      <th>Favicon</th>\n",
       "      <td>11055.0</td>\n",
       "      <td>0.628584</td>\n",
       "      <td>0.777777</td>\n",
       "      <td>-1.0</td>\n",
       "      <td>1.0</td>\n",
       "      <td>1.0</td>\n",
       "      <td>1.0</td>\n",
       "      <td>1.0</td>\n",
       "    </tr>\n",
       "    <tr>\n",
       "      <th>port</th>\n",
       "      <td>11055.0</td>\n",
       "      <td>0.728268</td>\n",
       "      <td>0.685324</td>\n",
       "      <td>-1.0</td>\n",
       "      <td>1.0</td>\n",
       "      <td>1.0</td>\n",
       "      <td>1.0</td>\n",
       "      <td>1.0</td>\n",
       "    </tr>\n",
       "    <tr>\n",
       "      <th>HTTPS_token</th>\n",
       "      <td>11055.0</td>\n",
       "      <td>0.675079</td>\n",
       "      <td>0.737779</td>\n",
       "      <td>-1.0</td>\n",
       "      <td>1.0</td>\n",
       "      <td>1.0</td>\n",
       "      <td>1.0</td>\n",
       "      <td>1.0</td>\n",
       "    </tr>\n",
       "    <tr>\n",
       "      <th>Request_URL</th>\n",
       "      <td>11055.0</td>\n",
       "      <td>0.186793</td>\n",
       "      <td>0.982444</td>\n",
       "      <td>-1.0</td>\n",
       "      <td>-1.0</td>\n",
       "      <td>1.0</td>\n",
       "      <td>1.0</td>\n",
       "      <td>1.0</td>\n",
       "    </tr>\n",
       "    <tr>\n",
       "      <th>URL_of_Anchor</th>\n",
       "      <td>11055.0</td>\n",
       "      <td>-0.076526</td>\n",
       "      <td>0.715138</td>\n",
       "      <td>-1.0</td>\n",
       "      <td>-1.0</td>\n",
       "      <td>0.0</td>\n",
       "      <td>0.0</td>\n",
       "      <td>1.0</td>\n",
       "    </tr>\n",
       "    <tr>\n",
       "      <th>Links_in_tags</th>\n",
       "      <td>11055.0</td>\n",
       "      <td>-0.118137</td>\n",
       "      <td>0.763973</td>\n",
       "      <td>-1.0</td>\n",
       "      <td>-1.0</td>\n",
       "      <td>0.0</td>\n",
       "      <td>0.0</td>\n",
       "      <td>1.0</td>\n",
       "    </tr>\n",
       "    <tr>\n",
       "      <th>SFH</th>\n",
       "      <td>11055.0</td>\n",
       "      <td>-0.595749</td>\n",
       "      <td>0.759143</td>\n",
       "      <td>-1.0</td>\n",
       "      <td>-1.0</td>\n",
       "      <td>-1.0</td>\n",
       "      <td>-1.0</td>\n",
       "      <td>1.0</td>\n",
       "    </tr>\n",
       "    <tr>\n",
       "      <th>Submitting_to_email</th>\n",
       "      <td>11055.0</td>\n",
       "      <td>0.635640</td>\n",
       "      <td>0.772021</td>\n",
       "      <td>-1.0</td>\n",
       "      <td>1.0</td>\n",
       "      <td>1.0</td>\n",
       "      <td>1.0</td>\n",
       "      <td>1.0</td>\n",
       "    </tr>\n",
       "    <tr>\n",
       "      <th>Abnormal_URL</th>\n",
       "      <td>11055.0</td>\n",
       "      <td>0.705292</td>\n",
       "      <td>0.708949</td>\n",
       "      <td>-1.0</td>\n",
       "      <td>1.0</td>\n",
       "      <td>1.0</td>\n",
       "      <td>1.0</td>\n",
       "      <td>1.0</td>\n",
       "    </tr>\n",
       "    <tr>\n",
       "      <th>Redirect</th>\n",
       "      <td>11055.0</td>\n",
       "      <td>0.115694</td>\n",
       "      <td>0.319872</td>\n",
       "      <td>0.0</td>\n",
       "      <td>0.0</td>\n",
       "      <td>0.0</td>\n",
       "      <td>0.0</td>\n",
       "      <td>1.0</td>\n",
       "    </tr>\n",
       "    <tr>\n",
       "      <th>on_mouseover</th>\n",
       "      <td>11055.0</td>\n",
       "      <td>0.762099</td>\n",
       "      <td>0.647490</td>\n",
       "      <td>-1.0</td>\n",
       "      <td>1.0</td>\n",
       "      <td>1.0</td>\n",
       "      <td>1.0</td>\n",
       "      <td>1.0</td>\n",
       "    </tr>\n",
       "    <tr>\n",
       "      <th>RightClick</th>\n",
       "      <td>11055.0</td>\n",
       "      <td>0.913885</td>\n",
       "      <td>0.405991</td>\n",
       "      <td>-1.0</td>\n",
       "      <td>1.0</td>\n",
       "      <td>1.0</td>\n",
       "      <td>1.0</td>\n",
       "      <td>1.0</td>\n",
       "    </tr>\n",
       "    <tr>\n",
       "      <th>popUpWidnow</th>\n",
       "      <td>11055.0</td>\n",
       "      <td>0.613388</td>\n",
       "      <td>0.789818</td>\n",
       "      <td>-1.0</td>\n",
       "      <td>1.0</td>\n",
       "      <td>1.0</td>\n",
       "      <td>1.0</td>\n",
       "      <td>1.0</td>\n",
       "    </tr>\n",
       "    <tr>\n",
       "      <th>Iframe</th>\n",
       "      <td>11055.0</td>\n",
       "      <td>0.816915</td>\n",
       "      <td>0.576784</td>\n",
       "      <td>-1.0</td>\n",
       "      <td>1.0</td>\n",
       "      <td>1.0</td>\n",
       "      <td>1.0</td>\n",
       "      <td>1.0</td>\n",
       "    </tr>\n",
       "    <tr>\n",
       "      <th>age_of_domain</th>\n",
       "      <td>11055.0</td>\n",
       "      <td>0.061239</td>\n",
       "      <td>0.998168</td>\n",
       "      <td>-1.0</td>\n",
       "      <td>-1.0</td>\n",
       "      <td>1.0</td>\n",
       "      <td>1.0</td>\n",
       "      <td>1.0</td>\n",
       "    </tr>\n",
       "    <tr>\n",
       "      <th>DNSRecord</th>\n",
       "      <td>11055.0</td>\n",
       "      <td>0.377114</td>\n",
       "      <td>0.926209</td>\n",
       "      <td>-1.0</td>\n",
       "      <td>-1.0</td>\n",
       "      <td>1.0</td>\n",
       "      <td>1.0</td>\n",
       "      <td>1.0</td>\n",
       "    </tr>\n",
       "    <tr>\n",
       "      <th>web_traffic</th>\n",
       "      <td>11055.0</td>\n",
       "      <td>0.287291</td>\n",
       "      <td>0.827733</td>\n",
       "      <td>-1.0</td>\n",
       "      <td>0.0</td>\n",
       "      <td>1.0</td>\n",
       "      <td>1.0</td>\n",
       "      <td>1.0</td>\n",
       "    </tr>\n",
       "    <tr>\n",
       "      <th>Page_Rank</th>\n",
       "      <td>11055.0</td>\n",
       "      <td>-0.483673</td>\n",
       "      <td>0.875289</td>\n",
       "      <td>-1.0</td>\n",
       "      <td>-1.0</td>\n",
       "      <td>-1.0</td>\n",
       "      <td>1.0</td>\n",
       "      <td>1.0</td>\n",
       "    </tr>\n",
       "    <tr>\n",
       "      <th>Google_Index</th>\n",
       "      <td>11055.0</td>\n",
       "      <td>0.721574</td>\n",
       "      <td>0.692369</td>\n",
       "      <td>-1.0</td>\n",
       "      <td>1.0</td>\n",
       "      <td>1.0</td>\n",
       "      <td>1.0</td>\n",
       "      <td>1.0</td>\n",
       "    </tr>\n",
       "    <tr>\n",
       "      <th>Links_pointing_to_page</th>\n",
       "      <td>11055.0</td>\n",
       "      <td>0.344007</td>\n",
       "      <td>0.569944</td>\n",
       "      <td>-1.0</td>\n",
       "      <td>0.0</td>\n",
       "      <td>0.0</td>\n",
       "      <td>1.0</td>\n",
       "      <td>1.0</td>\n",
       "    </tr>\n",
       "    <tr>\n",
       "      <th>Statistical_report</th>\n",
       "      <td>11055.0</td>\n",
       "      <td>0.719584</td>\n",
       "      <td>0.694437</td>\n",
       "      <td>-1.0</td>\n",
       "      <td>1.0</td>\n",
       "      <td>1.0</td>\n",
       "      <td>1.0</td>\n",
       "      <td>1.0</td>\n",
       "    </tr>\n",
       "    <tr>\n",
       "      <th>Result</th>\n",
       "      <td>11055.0</td>\n",
       "      <td>0.113885</td>\n",
       "      <td>0.993539</td>\n",
       "      <td>-1.0</td>\n",
       "      <td>-1.0</td>\n",
       "      <td>1.0</td>\n",
       "      <td>1.0</td>\n",
       "      <td>1.0</td>\n",
       "    </tr>\n",
       "  </tbody>\n",
       "</table>\n",
       "</div>"
      ],
      "text/plain": [
       "                               count      mean       std  min  25%  50%  75%  \\\n",
       "having_IP_Address            11055.0  0.313795  0.949534 -1.0 -1.0  1.0  1.0   \n",
       "URL_Length                   11055.0 -0.633198  0.766095 -1.0 -1.0 -1.0 -1.0   \n",
       "Shortining_Service           11055.0  0.738761  0.673998 -1.0  1.0  1.0  1.0   \n",
       "having_At_Symbol             11055.0  0.700588  0.713598 -1.0  1.0  1.0  1.0   \n",
       "double_slash_redirecting     11055.0  0.741474  0.671011 -1.0  1.0  1.0  1.0   \n",
       "Prefix_Suffix                11055.0 -0.734962  0.678139 -1.0 -1.0 -1.0 -1.0   \n",
       "having_Sub_Domain            11055.0  0.063953  0.817518 -1.0 -1.0  0.0  1.0   \n",
       "SSLfinal_State               11055.0  0.250927  0.911892 -1.0 -1.0  1.0  1.0   \n",
       "Domain_registeration_length  11055.0 -0.336771  0.941629 -1.0 -1.0 -1.0  1.0   \n",
       "Favicon                      11055.0  0.628584  0.777777 -1.0  1.0  1.0  1.0   \n",
       "port                         11055.0  0.728268  0.685324 -1.0  1.0  1.0  1.0   \n",
       "HTTPS_token                  11055.0  0.675079  0.737779 -1.0  1.0  1.0  1.0   \n",
       "Request_URL                  11055.0  0.186793  0.982444 -1.0 -1.0  1.0  1.0   \n",
       "URL_of_Anchor                11055.0 -0.076526  0.715138 -1.0 -1.0  0.0  0.0   \n",
       "Links_in_tags                11055.0 -0.118137  0.763973 -1.0 -1.0  0.0  0.0   \n",
       "SFH                          11055.0 -0.595749  0.759143 -1.0 -1.0 -1.0 -1.0   \n",
       "Submitting_to_email          11055.0  0.635640  0.772021 -1.0  1.0  1.0  1.0   \n",
       "Abnormal_URL                 11055.0  0.705292  0.708949 -1.0  1.0  1.0  1.0   \n",
       "Redirect                     11055.0  0.115694  0.319872  0.0  0.0  0.0  0.0   \n",
       "on_mouseover                 11055.0  0.762099  0.647490 -1.0  1.0  1.0  1.0   \n",
       "RightClick                   11055.0  0.913885  0.405991 -1.0  1.0  1.0  1.0   \n",
       "popUpWidnow                  11055.0  0.613388  0.789818 -1.0  1.0  1.0  1.0   \n",
       "Iframe                       11055.0  0.816915  0.576784 -1.0  1.0  1.0  1.0   \n",
       "age_of_domain                11055.0  0.061239  0.998168 -1.0 -1.0  1.0  1.0   \n",
       "DNSRecord                    11055.0  0.377114  0.926209 -1.0 -1.0  1.0  1.0   \n",
       "web_traffic                  11055.0  0.287291  0.827733 -1.0  0.0  1.0  1.0   \n",
       "Page_Rank                    11055.0 -0.483673  0.875289 -1.0 -1.0 -1.0  1.0   \n",
       "Google_Index                 11055.0  0.721574  0.692369 -1.0  1.0  1.0  1.0   \n",
       "Links_pointing_to_page       11055.0  0.344007  0.569944 -1.0  0.0  0.0  1.0   \n",
       "Statistical_report           11055.0  0.719584  0.694437 -1.0  1.0  1.0  1.0   \n",
       "Result                       11055.0  0.113885  0.993539 -1.0 -1.0  1.0  1.0   \n",
       "\n",
       "                             max  \n",
       "having_IP_Address            1.0  \n",
       "URL_Length                   1.0  \n",
       "Shortining_Service           1.0  \n",
       "having_At_Symbol             1.0  \n",
       "double_slash_redirecting     1.0  \n",
       "Prefix_Suffix                1.0  \n",
       "having_Sub_Domain            1.0  \n",
       "SSLfinal_State               1.0  \n",
       "Domain_registeration_length  1.0  \n",
       "Favicon                      1.0  \n",
       "port                         1.0  \n",
       "HTTPS_token                  1.0  \n",
       "Request_URL                  1.0  \n",
       "URL_of_Anchor                1.0  \n",
       "Links_in_tags                1.0  \n",
       "SFH                          1.0  \n",
       "Submitting_to_email          1.0  \n",
       "Abnormal_URL                 1.0  \n",
       "Redirect                     1.0  \n",
       "on_mouseover                 1.0  \n",
       "RightClick                   1.0  \n",
       "popUpWidnow                  1.0  \n",
       "Iframe                       1.0  \n",
       "age_of_domain                1.0  \n",
       "DNSRecord                    1.0  \n",
       "web_traffic                  1.0  \n",
       "Page_Rank                    1.0  \n",
       "Google_Index                 1.0  \n",
       "Links_pointing_to_page       1.0  \n",
       "Statistical_report           1.0  \n",
       "Result                       1.0  "
      ]
     },
     "execution_count": 8,
     "metadata": {},
     "output_type": "execute_result"
    }
   ],
   "source": [
    "phising_data_frame.describe().T"
   ]
  },
  {
   "cell_type": "code",
   "execution_count": 9,
   "metadata": {
    "scrolled": false
   },
   "outputs": [
    {
     "name": "stdout",
     "output_type": "stream",
     "text": [
      "<class 'pandas.core.frame.DataFrame'>\n",
      "RangeIndex: 11055 entries, 0 to 11054\n",
      "Data columns (total 31 columns):\n",
      "having_IP_Address              11055 non-null int64\n",
      "URL_Length                     11055 non-null int64\n",
      "Shortining_Service             11055 non-null int64\n",
      "having_At_Symbol               11055 non-null int64\n",
      "double_slash_redirecting       11055 non-null int64\n",
      "Prefix_Suffix                  11055 non-null int64\n",
      "having_Sub_Domain              11055 non-null int64\n",
      "SSLfinal_State                 11055 non-null int64\n",
      "Domain_registeration_length    11055 non-null int64\n",
      "Favicon                        11055 non-null int64\n",
      "port                           11055 non-null int64\n",
      "HTTPS_token                    11055 non-null int64\n",
      "Request_URL                    11055 non-null int64\n",
      "URL_of_Anchor                  11055 non-null int64\n",
      "Links_in_tags                  11055 non-null int64\n",
      "SFH                            11055 non-null int64\n",
      "Submitting_to_email            11055 non-null int64\n",
      "Abnormal_URL                   11055 non-null int64\n",
      "Redirect                       11055 non-null int64\n",
      "on_mouseover                   11055 non-null int64\n",
      "RightClick                     11055 non-null int64\n",
      "popUpWidnow                    11055 non-null int64\n",
      "Iframe                         11055 non-null int64\n",
      "age_of_domain                  11055 non-null int64\n",
      "DNSRecord                      11055 non-null int64\n",
      "web_traffic                    11055 non-null int64\n",
      "Page_Rank                      11055 non-null int64\n",
      "Google_Index                   11055 non-null int64\n",
      "Links_pointing_to_page         11055 non-null int64\n",
      "Statistical_report             11055 non-null int64\n",
      "Result                         11055 non-null int64\n",
      "dtypes: int64(31)\n",
      "memory usage: 2.6 MB\n"
     ]
    }
   ],
   "source": [
    "phising_data_frame.info()"
   ]
  },
  {
   "cell_type": "markdown",
   "metadata": {},
   "source": [
    "**Observation**: There are no missing values in the dataset. "
   ]
  },
  {
   "cell_type": "code",
   "execution_count": 10,
   "metadata": {},
   "outputs": [
    {
     "data": {
      "text/plain": [
       " 1    6157\n",
       "-1    4898\n",
       "Name: Result, dtype: int64"
      ]
     },
     "execution_count": 10,
     "metadata": {},
     "output_type": "execute_result"
    }
   ],
   "source": [
    "phising_data_frame['Result'].value_counts()           # Checking the number of target labels"
   ]
  },
  {
   "cell_type": "markdown",
   "metadata": {},
   "source": [
    "**Observation**: This is classification problem so check for balance. The dataset is more or less balanced."
   ]
  },
  {
   "cell_type": "code",
   "execution_count": 11,
   "metadata": {},
   "outputs": [
    {
     "data": {
      "text/plain": [
       "Index(['having_IP_Address', 'URL_Length', 'Shortining_Service',\n",
       "       'having_At_Symbol', 'double_slash_redirecting', 'Prefix_Suffix',\n",
       "       'having_Sub_Domain', 'SSLfinal_State', 'Domain_registeration_length',\n",
       "       'Favicon', 'port', 'HTTPS_token', 'Request_URL', 'URL_of_Anchor',\n",
       "       'Links_in_tags', 'SFH', 'Submitting_to_email', 'Abnormal_URL',\n",
       "       'Redirect', 'on_mouseover', 'RightClick', 'popUpWidnow', 'Iframe',\n",
       "       'age_of_domain', 'DNSRecord', 'web_traffic', 'Page_Rank',\n",
       "       'Google_Index', 'Links_pointing_to_page', 'Statistical_report',\n",
       "       'Result'],\n",
       "      dtype='object')"
      ]
     },
     "execution_count": 11,
     "metadata": {},
     "output_type": "execute_result"
    }
   ],
   "source": [
    "phising_data_frame.columns                            # Lets check all the columns of the dataframe"
   ]
  },
  {
   "cell_type": "code",
   "execution_count": 12,
   "metadata": {},
   "outputs": [
    {
     "name": "stdout",
     "output_type": "stream",
     "text": [
      "[-1 -1 -1 ... -1 -1 -1]\n"
     ]
    }
   ],
   "source": [
    "# Extracting Result column to pass as target label\n",
    "\n",
    "Y = phising_data_frame[\"Result\"].values\n",
    "print(Y)"
   ]
  },
  {
   "cell_type": "code",
   "execution_count": 13,
   "metadata": {},
   "outputs": [],
   "source": [
    "col_names = list(phising_data_frame)\n"
   ]
  },
  {
   "cell_type": "code",
   "execution_count": 14,
   "metadata": {},
   "outputs": [
    {
     "data": {
      "text/plain": [
       "array([[-1,  1,  1, ..., -1,  1,  1],\n",
       "       [ 1,  1,  1, ..., -1,  1,  1],\n",
       "       [ 1,  0,  1, ..., -1,  1,  0],\n",
       "       ...,\n",
       "       [ 1, -1,  1, ..., -1,  1,  0],\n",
       "       [-1, -1,  1, ..., -1,  1,  1],\n",
       "       [-1, -1,  1, ..., -1, -1,  1]], dtype=int64)"
      ]
     },
     "execution_count": 14,
     "metadata": {},
     "output_type": "execute_result"
    }
   ],
   "source": [
    "predictor_cols = col_names[0:len(col_names)-2]                 # selecting the predictor column names\n",
    "\n",
    "# Extracting Input Features to build the model \n",
    "\n",
    "X = phising_data_frame[predictor_cols].values\n",
    "X"
   ]
  },
  {
   "cell_type": "markdown",
   "metadata": {},
   "source": [
    "### Model Fitting"
   ]
  },
  {
   "cell_type": "code",
   "execution_count": 15,
   "metadata": {},
   "outputs": [],
   "source": [
    "X_train, X_test, y_train, y_test = train_test_split(X, Y, test_size=0.2, random_state=101)"
   ]
  },
  {
   "cell_type": "code",
   "execution_count": 16,
   "metadata": {},
   "outputs": [],
   "source": [
    "clf_knn = KNeighborsClassifier(\n",
    "    n_neighbors=10,\n",
    "    weights='distance'\n",
    "    )\n",
    "clf_knn = clf_knn.fit(X_train,y_train)"
   ]
  },
  {
   "cell_type": "code",
   "execution_count": 17,
   "metadata": {},
   "outputs": [
    {
     "name": "stdout",
     "output_type": "stream",
     "text": [
      "Cross Validation score with 5 folds: [0.98101266 0.97377939 0.96291271 0.93846154 0.92171946]\n",
      "Cross Validation Mean score : 0.9555771496112235\n"
     ]
    }
   ],
   "source": [
    "score_knn = cross_val_score(clf_knn, X, Y, cv=5)\n",
    "print(\"Cross Validation score with 5 folds: \" + str(score_knn))\n",
    "print(\"Cross Validation Mean score : \" + str(score_knn.mean()))"
   ]
  },
  {
   "cell_type": "code",
   "execution_count": 18,
   "metadata": {},
   "outputs": [
    {
     "name": "stdout",
     "output_type": "stream",
     "text": [
      "Cross Validation score with 10 folds: [0.98462929 0.98191682 0.96383363 0.98643761 0.9755877  0.960217\n",
      " 0.93761302 0.93484163 0.94112319 0.95561594]\n",
      "Cross Validation Mean score : 0.9621815840768381\n"
     ]
    }
   ],
   "source": [
    "score_knn = cross_val_score(clf_knn, X, Y, cv=10)\n",
    "print(\"Cross Validation score with 10 folds: \" + str(score_knn))\n",
    "print(\"Cross Validation Mean score : \" + str(score_knn.mean()))"
   ]
  },
  {
   "cell_type": "code",
   "execution_count": 23,
   "metadata": {},
   "outputs": [
    {
     "data": {
      "text/plain": [
       "(array([-1,  1], dtype=int64), 'euclidean', {})"
      ]
     },
     "execution_count": 23,
     "metadata": {},
     "output_type": "execute_result"
    }
   ],
   "source": [
    "clf_knn.classes_, clf_knn.effective_metric_, clf_knn.effective_metric_params_ "
   ]
  },
  {
   "cell_type": "code",
   "execution_count": 20,
   "metadata": {},
   "outputs": [],
   "source": [
    "y_pred = clf_knn.predict(X_test)"
   ]
  },
  {
   "cell_type": "code",
   "execution_count": 21,
   "metadata": {},
   "outputs": [
    {
     "name": "stdout",
     "output_type": "stream",
     "text": [
      "              precision    recall  f1-score   support\n",
      "\n",
      "          -1       0.94      0.95      0.94       971\n",
      "           1       0.96      0.95      0.96      1240\n",
      "\n",
      "   micro avg       0.95      0.95      0.95      2211\n",
      "   macro avg       0.95      0.95      0.95      2211\n",
      "weighted avg       0.95      0.95      0.95      2211\n",
      "\n"
     ]
    }
   ],
   "source": [
    "cr = classification_report(y_test, y_pred)\n",
    "print(cr)"
   ]
  },
  {
   "cell_type": "code",
   "execution_count": 22,
   "metadata": {},
   "outputs": [
    {
     "name": "stdout",
     "output_type": "stream",
     "text": [
      "[[ 919   52]\n",
      " [  56 1184]]\n"
     ]
    }
   ],
   "source": [
    "cm = confusion_matrix(y_test, y_pred)\n",
    "print(cm)"
   ]
  },
  {
   "cell_type": "code",
   "execution_count": 23,
   "metadata": {},
   "outputs": [
    {
     "name": "stdout",
     "output_type": "stream",
     "text": [
      "0.9511533242876526\n"
     ]
    }
   ],
   "source": [
    "print(accuracy_score(y_test, y_pred))"
   ]
  },
  {
   "cell_type": "markdown",
   "metadata": {},
   "source": [
    "### Grid Search"
   ]
  },
  {
   "cell_type": "code",
   "execution_count": 34,
   "metadata": {},
   "outputs": [
    {
     "name": "stdout",
     "output_type": "stream",
     "text": [
      "Fitting 5 folds for each of 6 candidates, totalling 30 fits\n"
     ]
    },
    {
     "name": "stderr",
     "output_type": "stream",
     "text": [
      "[Parallel(n_jobs=-1)]: Using backend LokyBackend with 4 concurrent workers.\n",
      "[Parallel(n_jobs=-1)]: Done  30 out of  30 | elapsed:  1.1min finished\n"
     ]
    }
   ],
   "source": [
    "from sklearn.model_selection import GridSearchCV\n",
    "\n",
    "grid_params = {'n_neighbors': [5,7,9,11,13,15]}\n",
    "\n",
    "gs = GridSearchCV(clf_knn, \n",
    "                 grid_params,\n",
    "                 verbose=1,\n",
    "                 cv=5,\n",
    "                 n_jobs=-1)\n",
    "\n",
    "gs_result = gs.fit(X_train, y_train)\n",
    "y_pred = gs_result.predict(X_test)"
   ]
  },
  {
   "cell_type": "code",
   "execution_count": 32,
   "metadata": {},
   "outputs": [
    {
     "data": {
      "text/plain": [
       "({'n_neighbors': 7}, 0.9549977385798282, 5)"
      ]
     },
     "execution_count": 32,
     "metadata": {},
     "output_type": "execute_result"
    }
   ],
   "source": [
    "gs.best_params_, gs.best_score_, gs.n_splits_"
   ]
  },
  {
   "cell_type": "code",
   "execution_count": 35,
   "metadata": {},
   "outputs": [
    {
     "name": "stdout",
     "output_type": "stream",
     "text": [
      "              precision    recall  f1-score   support\n",
      "\n",
      "          -1       0.95      0.95      0.95       971\n",
      "           1       0.96      0.96      0.96      1240\n",
      "\n",
      "   micro avg       0.95      0.95      0.95      2211\n",
      "   macro avg       0.95      0.95      0.95      2211\n",
      "weighted avg       0.95      0.95      0.95      2211\n",
      "\n"
     ]
    }
   ],
   "source": [
    "cr = classification_report(y_test, y_pred)\n",
    "print(cr)"
   ]
  },
  {
   "cell_type": "code",
   "execution_count": 36,
   "metadata": {},
   "outputs": [
    {
     "name": "stdout",
     "output_type": "stream",
     "text": [
      "[[ 922   49]\n",
      " [  51 1189]]\n"
     ]
    }
   ],
   "source": [
    "cm = confusion_matrix(y_test, y_pred)\n",
    "print(cm)"
   ]
  },
  {
   "cell_type": "code",
   "execution_count": 37,
   "metadata": {},
   "outputs": [
    {
     "name": "stdout",
     "output_type": "stream",
     "text": [
      "0.9547715965626413\n"
     ]
    }
   ],
   "source": [
    "print(accuracy_score(y_test, y_pred))"
   ]
  }
 ],
 "metadata": {
  "kernelspec": {
   "display_name": "Python 3",
   "language": "python",
   "name": "python3"
  },
  "language_info": {
   "codemirror_mode": {
    "name": "ipython",
    "version": 3
   },
   "file_extension": ".py",
   "mimetype": "text/x-python",
   "name": "python",
   "nbconvert_exporter": "python",
   "pygments_lexer": "ipython3",
   "version": "3.7.1"
  }
 },
 "nbformat": 4,
 "nbformat_minor": 2
}
